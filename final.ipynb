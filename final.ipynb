{
 "cells": [
  {
   "cell_type": "markdown",
   "metadata": {},
   "source": [
    "# The Pandemic's Effect on Music: Exploration"
   ]
  },
  {
   "cell_type": "markdown",
   "metadata": {},
   "source": [
    "Authors: Natnael Mekonnen, Sonya, and Daniel Parker"
   ]
  },
  {
   "cell_type": "markdown",
   "metadata": {},
   "source": [
    "## Introduction"
   ]
  },
  {
   "cell_type": "markdown",
   "metadata": {},
   "source": [
    "Why did we choose this topic? What is the importance?\n",
    "Do we anticipate to be any changes?"
   ]
  },
  {
   "cell_type": "markdown",
   "metadata": {},
   "source": [
    "## 1. Data Scraping"
   ]
  },
  {
   "cell_type": "markdown",
   "metadata": {},
   "source": [
    "To explore the pandemic's effect on music, we chose to compare the COVID data in the US with the top 10 list on Spotify since January 2020. The COVID data will be extracted from the Atlantic's [The COVID Tracking Project](https://covidtracking.com/data/national) which has been constantly updating the data everyday with representatives from 50 states, 5 territories, and District of Colombia. On the other hand, the Spotify top 10 will be extracted from the [Spotify Charts](https://spotifycharts.com/) on a weekly starting from January 2020. The charts does not have a detail information on the song so we will get more detail by querying the Spotify API and using a Kaggle dataset.  "
   ]
  },
  {
   "cell_type": "markdown",
   "metadata": {},
   "source": [
    "Import the necessary libraries: "
   ]
  },
  {
   "cell_type": "code",
   "execution_count": 7,
   "metadata": {},
   "outputs": [],
   "source": [
    "import pandas as pd\n",
    "import matplotlib.pyplot as pyplt\n",
    "import numpy as np\n",
    "import seaborn"
   ]
  },
  {
   "cell_type": "markdown",
   "metadata": {},
   "source": [
    "## 1.1 Load and View COVID data"
   ]
  },
  {
   "cell_type": "code",
   "execution_count": 8,
   "metadata": {},
   "outputs": [
    {
     "data": {
      "text/html": "<div>\n<style scoped>\n    .dataframe tbody tr th:only-of-type {\n        vertical-align: middle;\n    }\n\n    .dataframe tbody tr th {\n        vertical-align: top;\n    }\n\n    .dataframe thead th {\n        text-align: right;\n    }\n</style>\n<table border=\"1\" class=\"dataframe\">\n  <thead>\n    <tr style=\"text-align: right;\">\n      <th></th>\n      <th>date</th>\n      <th>death</th>\n      <th>deathIncrease</th>\n      <th>inIcuCumulative</th>\n      <th>inIcuCurrently</th>\n      <th>hospitalizedIncrease</th>\n      <th>hospitalizedCurrently</th>\n      <th>hospitalizedCumulative</th>\n      <th>negative</th>\n      <th>negativeIncrease</th>\n      <th>onVentilatorCumulative</th>\n      <th>onVentilatorCurrently</th>\n      <th>positive</th>\n      <th>positiveIncrease</th>\n      <th>recovered</th>\n      <th>states</th>\n      <th>totalTestResults</th>\n      <th>totalTestResultsIncrease</th>\n    </tr>\n  </thead>\n  <tbody>\n    <tr>\n      <th>0</th>\n      <td>2020-12-07</td>\n      <td>274745.0</td>\n      <td>1347</td>\n      <td>32120.0</td>\n      <td>20098.0</td>\n      <td>3614</td>\n      <td>102148.0</td>\n      <td>589486.0</td>\n      <td>163378726</td>\n      <td>1386381</td>\n      <td>3328.0</td>\n      <td>7073.0</td>\n      <td>14717065</td>\n      <td>180193</td>\n      <td>5714557.0</td>\n      <td>56</td>\n      <td>205934174</td>\n      <td>1835388</td>\n    </tr>\n    <tr>\n      <th>1</th>\n      <td>2020-12-06</td>\n      <td>273398.0</td>\n      <td>1146</td>\n      <td>31946.0</td>\n      <td>20145.0</td>\n      <td>2311</td>\n      <td>101501.0</td>\n      <td>585872.0</td>\n      <td>161992345</td>\n      <td>1175503</td>\n      <td>3322.0</td>\n      <td>7095.0</td>\n      <td>14536872</td>\n      <td>177801</td>\n      <td>5624609.0</td>\n      <td>56</td>\n      <td>204098786</td>\n      <td>1648306</td>\n    </tr>\n    <tr>\n      <th>2</th>\n      <td>2020-12-05</td>\n      <td>272252.0</td>\n      <td>2461</td>\n      <td>31831.0</td>\n      <td>19947.0</td>\n      <td>3457</td>\n      <td>101192.0</td>\n      <td>583561.0</td>\n      <td>160816842</td>\n      <td>1530133</td>\n      <td>3321.0</td>\n      <td>7006.0</td>\n      <td>14359071</td>\n      <td>212880</td>\n      <td>5576152.0</td>\n      <td>56</td>\n      <td>202450480</td>\n      <td>2190899</td>\n    </tr>\n    <tr>\n      <th>3</th>\n      <td>2020-12-04</td>\n      <td>269791.0</td>\n      <td>2563</td>\n      <td>31608.0</td>\n      <td>19858.0</td>\n      <td>4652</td>\n      <td>101276.0</td>\n      <td>580104.0</td>\n      <td>159286709</td>\n      <td>1260657</td>\n      <td>3305.0</td>\n      <td>6999.0</td>\n      <td>14146191</td>\n      <td>224831</td>\n      <td>5470389.0</td>\n      <td>56</td>\n      <td>200259581</td>\n      <td>1854869</td>\n    </tr>\n    <tr>\n      <th>4</th>\n      <td>2020-12-03</td>\n      <td>267228.0</td>\n      <td>2706</td>\n      <td>31276.0</td>\n      <td>19723.0</td>\n      <td>5331</td>\n      <td>100755.0</td>\n      <td>575452.0</td>\n      <td>158026052</td>\n      <td>1238465</td>\n      <td>3280.0</td>\n      <td>6867.0</td>\n      <td>13921360</td>\n      <td>210204</td>\n      <td>5404018.0</td>\n      <td>56</td>\n      <td>198404712</td>\n      <td>1828230</td>\n    </tr>\n  </tbody>\n</table>\n</div>",
      "text/plain": "         date     death  deathIncrease  inIcuCumulative  inIcuCurrently  \\\n0  2020-12-07  274745.0           1347          32120.0         20098.0   \n1  2020-12-06  273398.0           1146          31946.0         20145.0   \n2  2020-12-05  272252.0           2461          31831.0         19947.0   \n3  2020-12-04  269791.0           2563          31608.0         19858.0   \n4  2020-12-03  267228.0           2706          31276.0         19723.0   \n\n   hospitalizedIncrease  hospitalizedCurrently  hospitalizedCumulative  \\\n0                  3614               102148.0                589486.0   \n1                  2311               101501.0                585872.0   \n2                  3457               101192.0                583561.0   \n3                  4652               101276.0                580104.0   \n4                  5331               100755.0                575452.0   \n\n    negative  negativeIncrease  onVentilatorCumulative  onVentilatorCurrently  \\\n0  163378726           1386381                  3328.0                 7073.0   \n1  161992345           1175503                  3322.0                 7095.0   \n2  160816842           1530133                  3321.0                 7006.0   \n3  159286709           1260657                  3305.0                 6999.0   \n4  158026052           1238465                  3280.0                 6867.0   \n\n   positive  positiveIncrease  recovered  states  totalTestResults  \\\n0  14717065            180193  5714557.0      56         205934174   \n1  14536872            177801  5624609.0      56         204098786   \n2  14359071            212880  5576152.0      56         202450480   \n3  14146191            224831  5470389.0      56         200259581   \n4  13921360            210204  5404018.0      56         198404712   \n\n   totalTestResultsIncrease  \n0                   1835388  \n1                   1648306  \n2                   2190899  \n3                   1854869  \n4                   1828230  "
     },
     "execution_count": 8,
     "metadata": {},
     "output_type": "execute_result"
    }
   ],
   "source": [
    "covid_data = pd.read_csv('national-history.csv')\n",
    "covid_data.head()"
   ]
  },
  {
   "cell_type": "markdown",
   "metadata": {},
   "source": [
    "The COVID data is detailed but since this project is finding its relationship with music, most of the unnecessary columns will be dropped."
   ]
  },
  {
   "cell_type": "code",
   "execution_count": 9,
   "metadata": {},
   "outputs": [],
   "source": [
    "covid_data = covid_data.drop(['death','deathIncrease','inIcuCumulative','inIcuCurrently','hospitalizedIncrease','hospitalizedCurrently',\\\n",
    "                 'hospitalizedCumulative','onVentilatorCumulative','onVentilatorCurrently','recovered','states', 'totalTestResults'],\\\n",
    "                  axis=1)"
   ]
  },
  {
   "cell_type": "markdown",
   "metadata": {},
   "source": [
    "Knowing that the Spotify data is grouped on a weekly basis starting on a Thursday, the next step is to prepare the COVID data so it is easy to merge."
   ]
  },
  {
   "cell_type": "code",
   "execution_count": 10,
   "metadata": {},
   "outputs": [],
   "source": [
    "# Creating a custom interval index for grouping the data which starts from begining of the year on a thursday and continues weekly\n",
    "i = pd.to_datetime('01/08/2020')\n",
    "bins = []\n",
    "while i < pd.to_datetime('12/12/2020'):\n",
    "    temp = i + pd.Timedelta('7 days')\n",
    "    bins.append((i,temp))\n",
    "    i = temp\n",
    "bins = pd.IntervalIndex.from_tuples(bins)"
   ]
  },
  {
   "cell_type": "code",
   "execution_count": null,
   "metadata": {},
   "outputs": [],
   "source": [
    "# Convert the date from the dataframe to a pandas date and time format to be comuted in the cutting\n",
    "covid_data['date'] = pd.to_datetime(covid_data['date'])\n",
    "\n",
    "# Using the interval index created above, create a new column week which has the week interval of the data\n",
    "covid_data['week'] = pd.cut(covid_data['date'], bins)\n",
    "\n",
    "# Now that every row has a week interval, they will be grouped with the total for each column \n",
    "grouped = covid_data.groupby(['week']).sum()\n",
    "\n",
    "# Number the weeks to easily identify\n",
    "grouped['week#'] = list(range(1,len(bins)+1))\n",
    "\n",
    "covid_data.head(20)"
   ]
  }
 ],
 "metadata": {
  "kernelspec": {
   "display_name": "Python 3",
   "language": "python",
   "name": "python3"
  },
  "language_info": {
   "codemirror_mode": {
    "name": "ipython",
    "version": 3
   },
   "file_extension": ".py",
   "mimetype": "text/x-python",
   "name": "python",
   "nbconvert_exporter": "python",
   "pygments_lexer": "ipython3",
   "version": "3.8.3"
  }
 },
 "nbformat": 4,
 "nbformat_minor": 4
}